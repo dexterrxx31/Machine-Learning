{
  "nbformat": 4,
  "nbformat_minor": 5,
  "metadata": {
    "kernelspec": {
      "display_name": "Python 3",
      "language": "python",
      "name": "python3"
    },
    "language_info": {
      "codemirror_mode": {
        "name": "ipython",
        "version": 3
      },
      "file_extension": ".py",
      "mimetype": "text/x-python",
      "name": "python",
      "nbconvert_exporter": "python",
      "pygments_lexer": "ipython3",
      "version": "3.9.5"
    },
    "colab": {
      "name": "DataPreprocessing.ipynb",
      "provenance": [],
      "include_colab_link": true
    }
  },
  "cells": [
    {
      "cell_type": "markdown",
      "metadata": {
        "id": "view-in-github",
        "colab_type": "text"
      },
      "source": [
        "<a href=\"https://colab.research.google.com/github/dexterrxx31/Machine-Learning/blob/main/DataPreprocessing.ipynb\" target=\"_parent\"><img src=\"https://colab.research.google.com/assets/colab-badge.svg\" alt=\"Open In Colab\"/></a>"
      ]
    },
    {
      "cell_type": "code",
      "metadata": {
        "id": "falling-activation"
      },
      "source": [
        "# Jovian Commit Essentials\n",
        "# Please retain and execute this cell without modifying the contents for `jovian.commit` to work\n",
        "!pip install jovian --upgrade -q\n",
        "import jovian\n",
        "jovian.set_project('datapreprocessing')\n",
        "jovian.set_colab_id('1j6nf_MIISwiYSA-TDL74RllYZEL6Rsir')"
      ],
      "id": "falling-activation",
      "execution_count": 31,
      "outputs": []
    },
    {
      "cell_type": "code",
      "metadata": {
        "id": "774e3f9e-a885-46cc-bc9f-bff32c5773ea"
      },
      "source": [
        "import matplotlib.pyplot as plt\n",
        "import pandas as pd\n",
        "import numpy as np\n",
        "import jovian"
      ],
      "id": "774e3f9e-a885-46cc-bc9f-bff32c5773ea",
      "execution_count": 32,
      "outputs": []
    },
    {
      "cell_type": "code",
      "metadata": {
        "colab": {
          "base_uri": "https://localhost:8080/",
          "height": 105
        },
        "id": "8b84edba-7ae5-4a41-9b0c-00ad36a5feef",
        "outputId": "da5ba14f-3127-4e05-bf9c-73bb8744c6b7"
      },
      "source": [
        "#Commiting Changed to Jovian.ai\n",
        "jovian.commit(message = \"Initial commit\" ,filename = \" DataPreprocessing.ipynb\", project=\"DataPreprocessing\")\n"
      ],
      "id": "8b84edba-7ae5-4a41-9b0c-00ad36a5feef",
      "execution_count": 33,
      "outputs": [
        {
          "output_type": "stream",
          "text": [
            "[jovian] Detected Colab notebook...\u001b[0m\n",
            "[jovian] Uploading colab notebook to Jovian...\u001b[0m\n",
            "[jovian] Capturing environment..\u001b[0m\n",
            "[jovian] Committed successfully! https://jovian.ai/riyanahmad99/datapreprocessing\u001b[0m\n"
          ],
          "name": "stdout"
        },
        {
          "output_type": "execute_result",
          "data": {
            "application/vnd.google.colaboratory.intrinsic+json": {
              "type": "string"
            },
            "text/plain": [
              "'https://jovian.ai/riyanahmad99/datapreprocessing'"
            ]
          },
          "metadata": {
            "tags": []
          },
          "execution_count": 33
        }
      ]
    },
    {
      "cell_type": "markdown",
      "metadata": {
        "id": "a6f1e998-fb40-4814-b8b7-7d8c4e42ae89"
      },
      "source": [
        "#### Now first we need to import dataset and create a pandas dataframe .Here we have data set \"Data.csv\" and will use read_csv funtion of pandas."
      ],
      "id": "a6f1e998-fb40-4814-b8b7-7d8c4e42ae89"
    },
    {
      "cell_type": "code",
      "metadata": {
        "colab": {
          "base_uri": "https://localhost:8080/",
          "height": 355
        },
        "id": "aaad7717-526b-47c7-be79-17cf14957ab3",
        "outputId": "790bb900-aacd-43c2-ff7d-326f1f2c9296"
      },
      "source": [
        "dataset = pd.read_csv(\"./Datasets/Data.csv\")\n",
        "dataset"
      ],
      "id": "aaad7717-526b-47c7-be79-17cf14957ab3",
      "execution_count": 53,
      "outputs": [
        {
          "output_type": "execute_result",
          "data": {
            "text/html": [
              "<div>\n",
              "<style scoped>\n",
              "    .dataframe tbody tr th:only-of-type {\n",
              "        vertical-align: middle;\n",
              "    }\n",
              "\n",
              "    .dataframe tbody tr th {\n",
              "        vertical-align: top;\n",
              "    }\n",
              "\n",
              "    .dataframe thead th {\n",
              "        text-align: right;\n",
              "    }\n",
              "</style>\n",
              "<table border=\"1\" class=\"dataframe\">\n",
              "  <thead>\n",
              "    <tr style=\"text-align: right;\">\n",
              "      <th></th>\n",
              "      <th>Country</th>\n",
              "      <th>Age</th>\n",
              "      <th>Salary</th>\n",
              "      <th>Purchased</th>\n",
              "    </tr>\n",
              "  </thead>\n",
              "  <tbody>\n",
              "    <tr>\n",
              "      <th>0</th>\n",
              "      <td>France</td>\n",
              "      <td>44.0</td>\n",
              "      <td>72000.0</td>\n",
              "      <td>No</td>\n",
              "    </tr>\n",
              "    <tr>\n",
              "      <th>1</th>\n",
              "      <td>Spain</td>\n",
              "      <td>27.0</td>\n",
              "      <td>48000.0</td>\n",
              "      <td>Yes</td>\n",
              "    </tr>\n",
              "    <tr>\n",
              "      <th>2</th>\n",
              "      <td>Germany</td>\n",
              "      <td>30.0</td>\n",
              "      <td>54000.0</td>\n",
              "      <td>No</td>\n",
              "    </tr>\n",
              "    <tr>\n",
              "      <th>3</th>\n",
              "      <td>Spain</td>\n",
              "      <td>38.0</td>\n",
              "      <td>61000.0</td>\n",
              "      <td>No</td>\n",
              "    </tr>\n",
              "    <tr>\n",
              "      <th>4</th>\n",
              "      <td>Germany</td>\n",
              "      <td>40.0</td>\n",
              "      <td>NaN</td>\n",
              "      <td>Yes</td>\n",
              "    </tr>\n",
              "    <tr>\n",
              "      <th>5</th>\n",
              "      <td>France</td>\n",
              "      <td>35.0</td>\n",
              "      <td>58000.0</td>\n",
              "      <td>Yes</td>\n",
              "    </tr>\n",
              "    <tr>\n",
              "      <th>6</th>\n",
              "      <td>Spain</td>\n",
              "      <td>NaN</td>\n",
              "      <td>52000.0</td>\n",
              "      <td>No</td>\n",
              "    </tr>\n",
              "    <tr>\n",
              "      <th>7</th>\n",
              "      <td>France</td>\n",
              "      <td>48.0</td>\n",
              "      <td>79000.0</td>\n",
              "      <td>Yes</td>\n",
              "    </tr>\n",
              "    <tr>\n",
              "      <th>8</th>\n",
              "      <td>Germany</td>\n",
              "      <td>50.0</td>\n",
              "      <td>83000.0</td>\n",
              "      <td>No</td>\n",
              "    </tr>\n",
              "    <tr>\n",
              "      <th>9</th>\n",
              "      <td>France</td>\n",
              "      <td>37.0</td>\n",
              "      <td>67000.0</td>\n",
              "      <td>Yes</td>\n",
              "    </tr>\n",
              "  </tbody>\n",
              "</table>\n",
              "</div>"
            ],
            "text/plain": [
              "   Country   Age   Salary Purchased\n",
              "0   France  44.0  72000.0        No\n",
              "1    Spain  27.0  48000.0       Yes\n",
              "2  Germany  30.0  54000.0        No\n",
              "3    Spain  38.0  61000.0        No\n",
              "4  Germany  40.0      NaN       Yes\n",
              "5   France  35.0  58000.0       Yes\n",
              "6    Spain   NaN  52000.0        No\n",
              "7   France  48.0  79000.0       Yes\n",
              "8  Germany  50.0  83000.0        No\n",
              "9   France  37.0  67000.0       Yes"
            ]
          },
          "metadata": {
            "tags": []
          },
          "execution_count": 53
        }
      ]
    },
    {
      "cell_type": "markdown",
      "metadata": {
        "id": "935db9d2-f517-4d2d-9d1c-0777cf16582f"
      },
      "source": [
        "#### Now we have a dataframe but we need to split this data into dependent features and independent features .For slicing we can use .loc function of dataframe in pandas. Now second thing is \".value\" , we used this to convert pandas dataframe to a numpy array.The last column contains an dependent features so we took this in Y and rest in X. For upcomming Notebooks and concepts I will be following same rule."
      ],
      "id": "935db9d2-f517-4d2d-9d1c-0777cf16582f"
    },
    {
      "cell_type": "code",
      "metadata": {
        "id": "fd37b20c-2fb6-4b69-a41c-fdb6b1fcc961"
      },
      "source": [
        "X = dataset.iloc[: , :-1].values\n",
        "Y = dataset.iloc[: , -1].values"
      ],
      "id": "fd37b20c-2fb6-4b69-a41c-fdb6b1fcc961",
      "execution_count": 35,
      "outputs": []
    },
    {
      "cell_type": "code",
      "metadata": {
        "colab": {
          "base_uri": "https://localhost:8080/"
        },
        "id": "468df68f-d333-42e9-8e8a-36d3d55dda3f",
        "outputId": "305f789d-cbb1-427e-c622-efb795626df5"
      },
      "source": [
        "type(X)"
      ],
      "id": "468df68f-d333-42e9-8e8a-36d3d55dda3f",
      "execution_count": 36,
      "outputs": [
        {
          "output_type": "execute_result",
          "data": {
            "text/plain": [
              "numpy.ndarray"
            ]
          },
          "metadata": {
            "tags": []
          },
          "execution_count": 36
        }
      ]
    },
    {
      "cell_type": "code",
      "metadata": {
        "colab": {
          "base_uri": "https://localhost:8080/"
        },
        "id": "621106f6-736d-47c0-aef1-972fa015de5e",
        "outputId": "5d3727ca-070c-4903-a126-d69294ce480f"
      },
      "source": [
        "type(Y)"
      ],
      "id": "621106f6-736d-47c0-aef1-972fa015de5e",
      "execution_count": 37,
      "outputs": [
        {
          "output_type": "execute_result",
          "data": {
            "text/plain": [
              "numpy.ndarray"
            ]
          },
          "metadata": {
            "tags": []
          },
          "execution_count": 37
        }
      ]
    },
    {
      "cell_type": "code",
      "metadata": {
        "colab": {
          "base_uri": "https://localhost:8080/"
        },
        "id": "12237398-1bdf-4e40-bc07-d91d076f904d",
        "outputId": "db262f4d-05fd-4b0c-f8c1-60365ec1ce42"
      },
      "source": [
        "X"
      ],
      "id": "12237398-1bdf-4e40-bc07-d91d076f904d",
      "execution_count": 38,
      "outputs": [
        {
          "output_type": "execute_result",
          "data": {
            "text/plain": [
              "array([['France', 44.0, 72000.0],\n",
              "       ['Spain', 27.0, 48000.0],\n",
              "       ['Germany', 30.0, 54000.0],\n",
              "       ['Spain', 38.0, 61000.0],\n",
              "       ['Germany', 40.0, nan],\n",
              "       ['France', 35.0, 58000.0],\n",
              "       ['Spain', nan, 52000.0],\n",
              "       ['France', 48.0, 79000.0],\n",
              "       ['Germany', 50.0, 83000.0],\n",
              "       ['France', 37.0, 67000.0]], dtype=object)"
            ]
          },
          "metadata": {
            "tags": []
          },
          "execution_count": 38
        }
      ]
    },
    {
      "cell_type": "code",
      "metadata": {
        "colab": {
          "base_uri": "https://localhost:8080/"
        },
        "id": "d59c9469-89e6-4a8c-971e-f0087a85b976",
        "outputId": "b0a161d1-62de-4e1b-f796-68dd28845775"
      },
      "source": [
        "Y"
      ],
      "id": "d59c9469-89e6-4a8c-971e-f0087a85b976",
      "execution_count": 39,
      "outputs": [
        {
          "output_type": "execute_result",
          "data": {
            "text/plain": [
              "array(['No', 'Yes', 'No', 'No', 'Yes', 'Yes', 'No', 'Yes', 'No', 'Yes'],\n",
              "      dtype=object)"
            ]
          },
          "metadata": {
            "tags": []
          },
          "execution_count": 39
        }
      ]
    },
    {
      "cell_type": "code",
      "metadata": {
        "colab": {
          "base_uri": "https://localhost:8080/",
          "height": 105
        },
        "id": "81708935-7927-4728-872c-a35a5779e3a9",
        "outputId": "c7b9d038-4dfc-4868-f183-c339541655a2"
      },
      "source": [
        "#Commiting Changed to Jovian.ai\n",
        "jovian.commit(filename = \"DataPreprocessing.ipynb\", project=\"DataPreprocessing\")"
      ],
      "id": "81708935-7927-4728-872c-a35a5779e3a9",
      "execution_count": 40,
      "outputs": [
        {
          "output_type": "stream",
          "text": [
            "[jovian] Detected Colab notebook...\u001b[0m\n",
            "[jovian] Uploading colab notebook to Jovian...\u001b[0m\n",
            "[jovian] Capturing environment..\u001b[0m\n",
            "[jovian] Committed successfully! https://jovian.ai/riyanahmad99/datapreprocessing\u001b[0m\n"
          ],
          "name": "stdout"
        },
        {
          "output_type": "execute_result",
          "data": {
            "application/vnd.google.colaboratory.intrinsic+json": {
              "type": "string"
            },
            "text/plain": [
              "'https://jovian.ai/riyanahmad99/datapreprocessing'"
            ]
          },
          "metadata": {
            "tags": []
          },
          "execution_count": 40
        }
      ]
    },
    {
      "cell_type": "markdown",
      "metadata": {
        "id": "7a9f8adf-2f52-45c3-8a30-cb450d80d057"
      },
      "source": [
        "## Dealing with Misssing Values"
      ],
      "id": "7a9f8adf-2f52-45c3-8a30-cb450d80d057"
    },
    {
      "cell_type": "markdown",
      "metadata": {
        "id": "b8f35c0e-2c5d-4732-bb46-86e57728ccd7"
      },
      "source": [
        "  * We will be using Scikit Learning here for Handling missing values. \n",
        " * We will import a class from Scilearn called \"Simple Imputer\" in Imputer.\n",
        " * \" .fit \" connects feature X with instance of class imputer . It takes only those rows with have numerical data that is why we applied slicing in out data.\n",
        " * \" .transform fill missing values in X with means of others and return numpy array .\n",
        " * We updated our X features to get now missing values filled."
      ],
      "id": "b8f35c0e-2c5d-4732-bb46-86e57728ccd7"
    },
    {
      "cell_type": "markdown",
      "metadata": {
        "id": "OhF0QrOJpxmy"
      },
      "source": [
        "##### Why do you need to this imputer?\n",
        "##### Answer: For various reasons, many real world datasets contain missing values, often encoded as blanks, NaNs or other placeholders. Such datasets however are incompatible with scikit-learn estimators which assume that all values in an array are numerical, and that all have and hold meaning. A basic strategy to use incomplete datasets is to discard entire rows and/or columns containing missing values. However, this comes at the price of losing data which may be valuable (even though incomplete). A better strategy is to impute the missing values, i.e., to infer them from the known part of the data. "
      ],
      "id": "OhF0QrOJpxmy"
    },
    {
      "cell_type": "code",
      "metadata": {
        "id": "1c26b4b5-fbaf-4dbc-b43f-6f310eef54ab"
      },
      "source": [
        "from sklearn.impute import SimpleImputer"
      ],
      "id": "1c26b4b5-fbaf-4dbc-b43f-6f310eef54ab",
      "execution_count": 48,
      "outputs": []
    },
    {
      "cell_type": "code",
      "metadata": {
        "id": "ba73fbce-6e89-4af1-9a97-7f3897d4157f"
      },
      "source": [
        "imputer = SimpleImputer(missing_values = np.nan , strategy = \"mean\")"
      ],
      "id": "ba73fbce-6e89-4af1-9a97-7f3897d4157f",
      "execution_count": 49,
      "outputs": []
    },
    {
      "cell_type": "code",
      "metadata": {
        "colab": {
          "base_uri": "https://localhost:8080/"
        },
        "id": "9474f0ef-ea7e-475c-8d89-215427111b33",
        "outputId": "0762cb48-8c15-4d28-8e43-f183f187274f"
      },
      "source": [
        "imputer.fit(X[: ,1:3])"
      ],
      "id": "9474f0ef-ea7e-475c-8d89-215427111b33",
      "execution_count": 50,
      "outputs": [
        {
          "output_type": "execute_result",
          "data": {
            "text/plain": [
              "SimpleImputer(add_indicator=False, copy=True, fill_value=None,\n",
              "              missing_values=nan, strategy='mean', verbose=0)"
            ]
          },
          "metadata": {
            "tags": []
          },
          "execution_count": 50
        }
      ]
    },
    {
      "cell_type": "code",
      "metadata": {
        "id": "767ab2e0-8831-443a-87fe-195ce40ec93e"
      },
      "source": [
        "X[ : ,1:3 ] = imputer.transform(X[ : , 1:3])"
      ],
      "id": "767ab2e0-8831-443a-87fe-195ce40ec93e",
      "execution_count": 51,
      "outputs": []
    },
    {
      "cell_type": "code",
      "metadata": {
        "colab": {
          "base_uri": "https://localhost:8080/"
        },
        "id": "c4c84806-30b7-4e94-a388-2ae69bc2e0dc",
        "outputId": "4bfa6ebe-1244-42c4-e5f3-fffd6bd7a9e1"
      },
      "source": [
        "print(X)"
      ],
      "id": "c4c84806-30b7-4e94-a388-2ae69bc2e0dc",
      "execution_count": 52,
      "outputs": [
        {
          "output_type": "stream",
          "text": [
            "[['France' 44.0 72000.0]\n",
            " ['Spain' 27.0 48000.0]\n",
            " ['Germany' 30.0 54000.0]\n",
            " ['Spain' 38.0 61000.0]\n",
            " ['Germany' 40.0 63777.77777777778]\n",
            " ['France' 35.0 58000.0]\n",
            " ['Spain' 38.77777777777778 52000.0]\n",
            " ['France' 48.0 79000.0]\n",
            " ['Germany' 50.0 83000.0]\n",
            " ['France' 37.0 67000.0]]\n"
          ],
          "name": "stdout"
        }
      ]
    },
    {
      "cell_type": "code",
      "metadata": {
        "colab": {
          "base_uri": "https://localhost:8080/",
          "height": 105
        },
        "id": "bc80c179-8423-44cd-bc58-9d19fedf0d52",
        "outputId": "8a8b23aa-fea7-4a83-8eb8-e69f50c0bbd2"
      },
      "source": [
        "jovian.commit(filename = \"DataPreprocessing.ipynb\", project=\"DataPreprocessing\")"
      ],
      "id": "bc80c179-8423-44cd-bc58-9d19fedf0d52",
      "execution_count": 47,
      "outputs": [
        {
          "output_type": "stream",
          "text": [
            "[jovian] Detected Colab notebook...\u001b[0m\n",
            "[jovian] Uploading colab notebook to Jovian...\u001b[0m\n",
            "[jovian] Capturing environment..\u001b[0m\n",
            "[jovian] Committed successfully! https://jovian.ai/riyanahmad99/datapreprocessing\u001b[0m\n"
          ],
          "name": "stdout"
        },
        {
          "output_type": "execute_result",
          "data": {
            "application/vnd.google.colaboratory.intrinsic+json": {
              "type": "string"
            },
            "text/plain": [
              "'https://jovian.ai/riyanahmad99/datapreprocessing'"
            ]
          },
          "metadata": {
            "tags": []
          },
          "execution_count": 47
        }
      ]
    },
    {
      "cell_type": "code",
      "metadata": {
        "id": "qppn65Domjwy"
      },
      "source": [
        ""
      ],
      "id": "qppn65Domjwy",
      "execution_count": 46,
      "outputs": []
    },
    {
      "cell_type": "markdown",
      "metadata": {
        "id": "lX3Rt7jbqMS4"
      },
      "source": [
        "### Referances\n",
        "* scikit-learn.org\n",
        "* jovian.ai"
      ],
      "id": "lX3Rt7jbqMS4"
    }
  ]
}