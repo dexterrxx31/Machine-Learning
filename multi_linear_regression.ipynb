{
  "nbformat": 4,
  "nbformat_minor": 0,
  "metadata": {
    "kernelspec": {
      "display_name": "Python 3",
      "language": "python",
      "name": "python3"
    },
    "language_info": {
      "codemirror_mode": {
        "name": "ipython",
        "version": 3
      },
      "file_extension": ".py",
      "mimetype": "text/x-python",
      "name": "python",
      "nbconvert_exporter": "python",
      "pygments_lexer": "ipython3",
      "version": "3.7.6"
    },
    "colab": {
      "name": "multi-linear-regression.ipynb",
      "provenance": [],
      "collapsed_sections": [],
      "include_colab_link": true
    }
  },
  "cells": [
    {
      "cell_type": "markdown",
      "metadata": {
        "id": "view-in-github",
        "colab_type": "text"
      },
      "source": [
        "<a href=\"https://colab.research.google.com/github/dexterrxx31/Machine-Learning/blob/main/multi_linear_regression.ipynb\" target=\"_parent\"><img src=\"https://colab.research.google.com/assets/colab-badge.svg\" alt=\"Open In Colab\"/></a>"
      ]
    },
    {
      "cell_type": "code",
      "metadata": {
        "colab": {
          "base_uri": "https://localhost:8080/"
        },
        "id": "Isva7ZCiOi5A",
        "outputId": "6a304aa8-c06b-4068-b230-4ca30dfa4b6e"
      },
      "source": [
        "# Jovian Commit Essentials\n",
        "# Please retain and execute this cell without modifying the contents for `jovian.commit` to work\n",
        "!pip install jovian --upgrade -q\n",
        "import jovian\n",
        "jovian.set_project('multi-linear-regression')\n",
        "jovian.set_colab_id('1kuiK6btnSRzagvaZpzfLTQBIiHoHdAdw')"
      ],
      "execution_count": 1,
      "outputs": [
        {
          "output_type": "stream",
          "text": [
            "\u001b[?25l\r\u001b[K     |████▊                           | 10kB 18.4MB/s eta 0:00:01\r\u001b[K     |█████████▌                      | 20kB 22.4MB/s eta 0:00:01\r\u001b[K     |██████████████▎                 | 30kB 17.7MB/s eta 0:00:01\r\u001b[K     |███████████████████             | 40kB 14.8MB/s eta 0:00:01\r\u001b[K     |███████████████████████▊        | 51kB 7.4MB/s eta 0:00:01\r\u001b[K     |████████████████████████████▌   | 61kB 7.2MB/s eta 0:00:01\r\u001b[K     |████████████████████████████████| 71kB 4.3MB/s \n",
            "\u001b[?25h  Building wheel for uuid (setup.py) ... \u001b[?25l\u001b[?25hdone\n"
          ],
          "name": "stdout"
        }
      ]
    },
    {
      "cell_type": "markdown",
      "metadata": {
        "id": "X9Be0UKTOi5K"
      },
      "source": [
        "# multi-linear-regression\n",
        "\n",
        "Use the \"Run\" button to execute the code."
      ]
    },
    {
      "cell_type": "code",
      "metadata": {
        "id": "lwJcfY3hOi5L"
      },
      "source": [
        "!pip install jovian --upgrade --quiet"
      ],
      "execution_count": 2,
      "outputs": []
    },
    {
      "cell_type": "code",
      "metadata": {
        "id": "_8eIuvRAOi5M"
      },
      "source": [
        "import jovian"
      ],
      "execution_count": 3,
      "outputs": []
    },
    {
      "cell_type": "code",
      "metadata": {
        "colab": {
          "base_uri": "https://localhost:8080/",
          "height": 125
        },
        "id": "VAWJ_3VQOi5N",
        "outputId": "c2a4af90-d492-4e5f-a741-6bdd222e4d6e"
      },
      "source": [
        "# Execute this to save new versions of the notebook\n",
        "jovian.commit(project=\"multi-linear-regression\")"
      ],
      "execution_count": 7,
      "outputs": [
        {
          "output_type": "stream",
          "text": [
            "[jovian] Detected Colab notebook...\u001b[0m\n",
            "[jovian] Uploading colab notebook to Jovian...\u001b[0m\n",
            "[jovian] Capturing environment..\u001b[0m\n",
            "[jovian] Committed successfully! https://jovian.ai/riyanahmad99/multi-linear-regression\u001b[0m\n"
          ],
          "name": "stdout"
        },
        {
          "output_type": "execute_result",
          "data": {
            "application/vnd.google.colaboratory.intrinsic+json": {
              "type": "string"
            },
            "text/plain": [
              "'https://jovian.ai/riyanahmad99/multi-linear-regression'"
            ]
          },
          "metadata": {
            "tags": []
          },
          "execution_count": 7
        }
      ]
    },
    {
      "cell_type": "markdown",
      "metadata": {
        "id": "Zfx6O5YhmJEB"
      },
      "source": [
        " # 5 Step to build any model\n",
        " -  All in (putting all variables)\n",
        " - Backward Elimination\n",
        " - Forward Selection\n",
        " - Bidirectional Elimination\n",
        " - Score \n",
        " \n",
        "** Backward Elimination**\n",
        " \n",
        "\n",
        "1.   Select a significance level to stay in model (eg SL = 0.05)\n",
        "2.   Fit the full model with all possible predictors.\n",
        "3.   Consider the predictor with a highest P-value .If p > SL , go to STEP 4 , otherwise go in FINISH as your model is ready.\n",
        "4.  Remove the predictor.\n",
        "5.  Fit model without this varible.\n",
        "\n",
        "\n"
      ]
    },
    {
      "cell_type": "markdown",
      "metadata": {
        "id": "KTInVvyOoz_e"
      },
      "source": [
        ""
      ]
    },
    {
      "cell_type": "code",
      "metadata": {
        "id": "OjaX4As1Oi5P"
      },
      "source": [
        ""
      ],
      "execution_count": null,
      "outputs": []
    }
  ]
}