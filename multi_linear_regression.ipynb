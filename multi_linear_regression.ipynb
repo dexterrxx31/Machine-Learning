{
  "nbformat": 4,
  "nbformat_minor": 0,
  "metadata": {
    "kernelspec": {
      "display_name": "Python 3",
      "language": "python",
      "name": "python3"
    },
    "language_info": {
      "codemirror_mode": {
        "name": "ipython",
        "version": 3
      },
      "file_extension": ".py",
      "mimetype": "text/x-python",
      "name": "python",
      "nbconvert_exporter": "python",
      "pygments_lexer": "ipython3",
      "version": "3.7.6"
    },
    "colab": {
      "name": "multi-linear-regression.ipynb",
      "provenance": [],
      "collapsed_sections": [],
      "include_colab_link": true
    }
  },
  "cells": [
    {
      "cell_type": "markdown",
      "metadata": {
        "id": "view-in-github",
        "colab_type": "text"
      },
      "source": [
        "<a href=\"https://colab.research.google.com/github/dexterrxx31/Machine-Learning/blob/main/multi_linear_regression.ipynb\" target=\"_parent\"><img src=\"https://colab.research.google.com/assets/colab-badge.svg\" alt=\"Open In Colab\"/></a>"
      ]
    },
    {
      "cell_type": "code",
      "metadata": {
        "id": "Isva7ZCiOi5A"
      },
      "source": [
        "# Jovian Commit Essentials\n",
        "# Please retain and execute this cell without modifying the contents for `jovian.commit` to work\n",
        "!pip install jovian --upgrade -q\n",
        "import jovian\n",
        "jovian.set_project('multi-linear-regression')\n",
        "jovian.set_colab_id('1kuiK6btnSRzagvaZpzfLTQBIiHoHdAdw')"
      ],
      "execution_count": 27,
      "outputs": []
    },
    {
      "cell_type": "markdown",
      "metadata": {
        "id": "X9Be0UKTOi5K"
      },
      "source": [
        "# multi-linear-regression\n",
        "\n",
        "Use the \"Run\" button to execute the code."
      ]
    },
    {
      "cell_type": "code",
      "metadata": {
        "id": "lwJcfY3hOi5L"
      },
      "source": [
        "!pip install jovian --upgrade --quiet"
      ],
      "execution_count": 28,
      "outputs": []
    },
    {
      "cell_type": "code",
      "metadata": {
        "id": "_8eIuvRAOi5M"
      },
      "source": [
        "import jovian"
      ],
      "execution_count": 29,
      "outputs": []
    },
    {
      "cell_type": "code",
      "metadata": {
        "colab": {
          "base_uri": "https://localhost:8080/",
          "height": 105
        },
        "id": "VAWJ_3VQOi5N",
        "outputId": "1622eb87-3ff4-4aa0-b006-7e8aca4c0b40"
      },
      "source": [
        "# Execute this to save new versions of the notebook\n",
        "jovian.commit(project=\"multi-linear-regression\")"
      ],
      "execution_count": 30,
      "outputs": [
        {
          "output_type": "stream",
          "text": [
            "[jovian] Detected Colab notebook...\u001b[0m\n",
            "[jovian] Uploading colab notebook to Jovian...\u001b[0m\n",
            "[jovian] Capturing environment..\u001b[0m\n",
            "[jovian] Committed successfully! https://jovian.ai/riyanahmad99/multi-linear-regression\u001b[0m\n"
          ],
          "name": "stdout"
        },
        {
          "output_type": "execute_result",
          "data": {
            "application/vnd.google.colaboratory.intrinsic+json": {
              "type": "string"
            },
            "text/plain": [
              "'https://jovian.ai/riyanahmad99/multi-linear-regression'"
            ]
          },
          "metadata": {
            "tags": []
          },
          "execution_count": 30
        }
      ]
    },
    {
      "cell_type": "markdown",
      "metadata": {
        "id": "Zfx6O5YhmJEB"
      },
      "source": [
        " # 5 Step to build any model\n",
        " -  All in (putting all variables)\n",
        " - Backward Elimination\n",
        " - Forward Selection\n",
        " - Bidirectional Elimination\n",
        " - Score \n",
        " \n",
        "** Backward Elimination**\n",
        " \n",
        "\n",
        "1.   Select a significance level to stay in model (eg SL = 0.05)\n",
        "2.   Fit the full model with all possible predictors.\n",
        "3.   Consider the predictor with a highest P-value .If p > SL , go to STEP 4 , otherwise go in FINISH as your model is ready.\n",
        "4.  Remove the predictor.\n",
        "5.  Fit model without this varible.\n",
        "\n",
        "** Forward Selection**\n",
        "1. Select a significance to enter the model (eg SL = 0.05)\n",
        "2. Fit all simple regression model y -  xn .Select the one with the lowest P- value .\n",
        "3. Keep this varible and fit all possible models with one extra predictor added the one(s) you already have.\n",
        "4. Consider the predictor with the lowest P-value . If P < SL go to STEP 3 , otherwise go to FINISH.\n",
        "\n",
        "** Bidirectional Elimination**\n",
        "1. Select a significance level to enter and to stay in model eg: SLENTER = 0.05 ,SLSTAY = 0.05.\n",
        "2. Perform the next step to Forward Select new varibles must have P < SLENTER to enter )\n",
        "3. Perform ALL steps of Backward Elimination (odd varibles must have P < SLSTAY to stay )\n",
        "4. No new variables can enter and no odd variable can exit.\n",
        "\n",
        "** All Possible Models**\n",
        "1. Select a criterian of goodness of fit (eg Akaike criterion).\n",
        "2. Construct All possible Regression Models 2^N -1 total combinations.\n",
        "3. Select the one with the best criterion.\n"
      ]
    },
    {
      "cell_type": "markdown",
      "metadata": {
        "id": "KTInVvyOoz_e"
      },
      "source": [
        "# Importing Libaries"
      ]
    },
    {
      "cell_type": "code",
      "metadata": {
        "id": "OjaX4As1Oi5P"
      },
      "source": [
        "import numpy as np\n",
        "import matplotlib.pyplot as plt\n",
        "import pandas as pd"
      ],
      "execution_count": 31,
      "outputs": []
    },
    {
      "cell_type": "markdown",
      "metadata": {
        "id": "-tzHpX6Uypdm"
      },
      "source": [
        "# Importing Dataset"
      ]
    },
    {
      "cell_type": "code",
      "metadata": {
        "id": "5f4IiJj0youb"
      },
      "source": [
        "dataset = pd.read_csv(\"/content/Datasets/50_Startups.csv\")\n",
        "x = dataset.iloc[: , :-1].values\n",
        "y = dataset.iloc[: , -1].values"
      ],
      "execution_count": 32,
      "outputs": []
    },
    {
      "cell_type": "code",
      "metadata": {
        "id": "FydEIA_yzWuk"
      },
      "source": [
        "from sklearn.compose import ColumnTransformer\n",
        "from sklearn.preprocessing import OneHotEncoder\n",
        "ct = ColumnTransformer(transformers=[('encoder', OneHotEncoder(), [3])], remainder='passthrough')\n",
        "x = ct.fit_transform(x)"
      ],
      "execution_count": 33,
      "outputs": []
    },
    {
      "cell_type": "markdown",
      "metadata": {
        "id": "oPPEBzfH0xbs"
      },
      "source": [
        "# Splitting dataset in Training and testset"
      ]
    },
    {
      "cell_type": "code",
      "metadata": {
        "id": "ET_VRDQK0MM6"
      },
      "source": [
        "from sklearn.model_selection import train_test_split\n",
        "x_train , x_test , y_train , y_test = train_test_split(x,y,test_size = 0.2 , random_state = 1)"
      ],
      "execution_count": 34,
      "outputs": []
    },
    {
      "cell_type": "markdown",
      "metadata": {
        "id": "pVm2ze0g09as"
      },
      "source": [
        "# Training Multilinear Regression Model on training set "
      ]
    },
    {
      "cell_type": "code",
      "metadata": {
        "colab": {
          "base_uri": "https://localhost:8080/"
        },
        "id": "ukyIJORm0peZ",
        "outputId": "13066328-e8e7-46d5-aacf-f0581dccc838"
      },
      "source": [
        "from sklearn.linear_model import LinearRegression\n",
        "regressor = LinearRegression()\n",
        "regressor.fit(x_train,y_train)"
      ],
      "execution_count": 35,
      "outputs": [
        {
          "output_type": "execute_result",
          "data": {
            "text/plain": [
              "LinearRegression(copy_X=True, fit_intercept=True, n_jobs=None, normalize=False)"
            ]
          },
          "metadata": {
            "tags": []
          },
          "execution_count": 35
        }
      ]
    },
    {
      "cell_type": "markdown",
      "metadata": {
        "id": "m8P-0kJu2vO6"
      },
      "source": [
        "# Making Prediction on Testset"
      ]
    },
    {
      "cell_type": "code",
      "metadata": {
        "colab": {
          "base_uri": "https://localhost:8080/"
        },
        "id": "xxHg6o4-1ukD",
        "outputId": "28bd25e2-310c-41f8-bde8-8e6c75b7c439"
      },
      "source": [
        "y_pred = regressor.predict(x_test)\n",
        "np.set_printoptions(precision=2)\n",
        "print(np.concatenate((y_pred.reshape(len(y_pred),1), y_test.reshape(len(y_test),1)),1))"
      ],
      "execution_count": 36,
      "outputs": [
        {
          "output_type": "stream",
          "text": [
            "[[114664.42 105008.31]\n",
            " [ 90593.16  96479.51]\n",
            " [ 75692.84  78239.91]\n",
            " [ 70221.89  81229.06]\n",
            " [179790.26 191050.39]\n",
            " [171576.92 182901.99]\n",
            " [ 49753.59  35673.41]\n",
            " [102276.66 101004.64]\n",
            " [ 58649.38  49490.75]\n",
            " [ 98272.03  97483.56]]\n"
          ],
          "name": "stdout"
        }
      ]
    },
    {
      "cell_type": "code",
      "metadata": {
        "colab": {
          "base_uri": "https://localhost:8080/",
          "height": 122
        },
        "id": "DwkoOrKP26qx",
        "outputId": "8dce04e7-32a6-4633-855c-5973917173cd"
      },
      "source": [
        "# Execute this to save new versions of the notebook\n",
        "jovian.commit(project=\"multi-linear-regression\")"
      ],
      "execution_count": 37,
      "outputs": [
        {
          "output_type": "stream",
          "text": [
            "[jovian] Detected Colab notebook...\u001b[0m\n",
            "[jovian] Uploading colab notebook to Jovian...\u001b[0m\n"
          ],
          "name": "stdout"
        },
        {
          "output_type": "stream",
          "text": [
            "\u001b[31m[jovian] Error: Looks like the notebook is missing output cells, please save the notebook and try jovian.commit again.\u001b[0m\n"
          ],
          "name": "stderr"
        },
        {
          "output_type": "stream",
          "text": [
            "[jovian] Capturing environment..\u001b[0m\n",
            "[jovian] Committed successfully! https://jovian.ai/riyanahmad99/multi-linear-regression\u001b[0m\n"
          ],
          "name": "stdout"
        },
        {
          "output_type": "execute_result",
          "data": {
            "application/vnd.google.colaboratory.intrinsic+json": {
              "type": "string"
            },
            "text/plain": [
              "'https://jovian.ai/riyanahmad99/multi-linear-regression'"
            ]
          },
          "metadata": {
            "tags": []
          },
          "execution_count": 37
        }
      ]
    }
  ]
}